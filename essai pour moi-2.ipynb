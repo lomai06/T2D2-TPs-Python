{
 "cells": [
  {
   "cell_type": "markdown",
   "id": "1f344e61",
   "metadata": {},
   "source": [
    "essai pour moi"
   ]
  },
  {
   "cell_type": "code",
   "execution_count": 1,
   "id": "2786cfab",
   "metadata": {},
   "outputs": [],
   "source": [
    "def prix(p,t):\n",
    "    Pf=p-p*t/100\n",
    "    print(\"Le nouveau prix est\",Pf,\" €\")"
   ]
  },
  {
   "cell_type": "code",
   "execution_count": 2,
   "id": "d76093a7",
   "metadata": {},
   "outputs": [
    {
     "name": "stdout",
     "output_type": "stream",
     "text": [
      "Le nouveau prix est 165.0  €\n"
     ]
    }
   ],
   "source": [
    "prix(150,-10)"
   ]
  },
  {
   "cell_type": "code",
   "execution_count": 3,
   "id": "886915df",
   "metadata": {},
   "outputs": [
    {
     "name": "stdout",
     "output_type": "stream",
     "text": [
      "Le nouveau prix est 280.0  €\n"
     ]
    }
   ],
   "source": [
    "prix(350,20)"
   ]
  },
  {
   "cell_type": "code",
   "execution_count": 4,
   "id": "f1127cae",
   "metadata": {},
   "outputs": [
    {
     "name": "stdout",
     "output_type": "stream",
     "text": [
      "Le nouveau prix est 300.0  €\n"
     ]
    }
   ],
   "source": [
    "prix(1000,70)"
   ]
  },
  {
   "cell_type": "code",
   "execution_count": null,
   "id": "8647a478",
   "metadata": {},
   "outputs": [],
   "source": []
  }
 ],
 "metadata": {
  "kernelspec": {
   "display_name": "Python 3",
   "language": "python",
   "name": "python3"
  },
  "language_info": {
   "codemirror_mode": {
    "name": "ipython",
    "version": 3
   },
   "file_extension": ".py",
   "mimetype": "text/x-python",
   "name": "python",
   "nbconvert_exporter": "python",
   "pygments_lexer": "ipython3",
   "version": "3.8.8"
  }
 },
 "nbformat": 4,
 "nbformat_minor": 5
}
