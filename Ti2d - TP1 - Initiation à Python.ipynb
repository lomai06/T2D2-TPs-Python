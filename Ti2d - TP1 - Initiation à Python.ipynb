{
 "cells": [
  {
   "cell_type": "markdown",
   "id": "f6ed7495",
   "metadata": {},
   "source": [
    "# TP1 : Initiation au langage Python\n",
    "\n",
    "Un algorithme mathématique est un procédé qui permet d'automatiser un calcul dans le but de le faire effectuer directement à une machine en lui donnant les bonnes instructions. Une fois l'algorithme programmé, cela permet un gain de temps et parfois de précision. Dans le cadre des suites numériques par exemple, on les utilise pour résoudre certaines questions qui nécessitent un grand nombre de \"boucles\".\n",
    "\n",
    "En langage Python, on commence toujours un algorithme par **def** suivi du nom de la \"fonction\" et de son (ou ses) paramètre(s) placé(s) entre parenthèses. *(attention, le mot \"fonction\" pour Python n'a pas exactement le même sens qu'en maths. Cela désigne une suite d'instructions qui saisit des \"arguments\" et retourne un résultat)*      \n",
    "\n",
    "La première ligne se termine toujours par \"2 points\" (**:**) qui marquent le démarrage d'un bloc d'instructions; toutes ces instructions sont \"décalées vers la droite\"\n",
    "\n",
    "Le résultat s'obtient grâce à la commande \"print(...)\"\n",
    "\n",
    "## 1/ Un premier exemple de \"fonction\" Python\n",
    "Voici ci-dessous un exemple d'algorithme:\n",
    "\n"
   ]
  },
  {
   "cell_type": "code",
   "execution_count": 31,
   "id": "7192d733",
   "metadata": {},
   "outputs": [],
   "source": [
    "def calcul(x):\n",
    "    y=x+3\n",
    "    y=y**2\n",
    "    y=5*y\n",
    "    print(y)  "
   ]
  },
  {
   "cell_type": "markdown",
   "id": "2fe1f0b1",
   "metadata": {},
   "source": [
    "*(Note: le * signifie \"multiplier\"; \"x**2\" signifie une mise au carré )* \n",
    "\n",
    "Pour utiliser un tel algorithme, il suffit de l'appeler par son nom (ici $calcul$ et de noter entre parenthèses la valeur que l'on veut donner à x. \n",
    "Faites cette manipulation dans la ligne ci-dessous, avec la valeur initiale **x=1**, puis avec une autre valeur initiale **x=-8**"
   ]
  },
  {
   "cell_type": "code",
   "execution_count": null,
   "id": "51ed5bc6",
   "metadata": {},
   "outputs": [],
   "source": []
  },
  {
   "cell_type": "markdown",
   "id": "07d89ce7",
   "metadata": {},
   "source": [
    "Il est possible de simplifier l'algorithme précédent en remplaçant les trois lignes de calculs commençant par \"y=\" par une seule ligne. On l'appellera $calcbis$ .\n",
    "Ecrire cet algorithme simplifié ci-dessous, puis le tester avec les valeurs **x=1** puis **x=-8**  "
   ]
  },
  {
   "cell_type": "code",
   "execution_count": 35,
   "id": "f195c971",
   "metadata": {},
   "outputs": [],
   "source": [
    "def ............:\n",
    "    y=..........\n",
    "    .........."
   ]
  },
  {
   "cell_type": "markdown",
   "id": "9ca4874c",
   "metadata": {},
   "source": [
    "Quels sont les \"antécédents\" du nombre 500 par cette \"fonction\"? Réfléchir au brouillon, puis tester ci-dessous vos réponses avec l'algorithme précédent.\n",
    "\n",
    "--> Vérification du 1er antécédent:"
   ]
  },
  {
   "cell_type": "code",
   "execution_count": null,
   "id": "7a47cbe9",
   "metadata": {},
   "outputs": [],
   "source": []
  },
  {
   "cell_type": "markdown",
   "id": "28798a88",
   "metadata": {},
   "source": [
    "--> Vérification du 2ème antécédent"
   ]
  },
  {
   "cell_type": "code",
   "execution_count": null,
   "id": "46d145fb",
   "metadata": {},
   "outputs": [],
   "source": []
  },
  {
   "cell_type": "markdown",
   "id": "1afc1f65",
   "metadata": {},
   "source": [
    "Enfin, il est possible d'améliorer un algorithme en y insérant du texte pour qu'il affiche une phrase réponse lors de la commande \"print\". Le texte doit alors être mis entre guillemets et il doit y avoir une virgule qui sépare ce texte de la variable à afficher. On peut écrire par exemple:     **print(\"Le résultat est \",y)**\n",
    "\n",
    "Copier l'algorithme créé à l'entrée 35, puis terminer par l'instruction qui affichera **\"L'image du nombre ...(*x*) est égale à ...(*y*)\"**"
   ]
  },
  {
   "cell_type": "markdown",
   "id": "e7615f4a",
   "metadata": {},
   "source": []
  },
  {
   "cell_type": "markdown",
   "id": "c17d2a3a",
   "metadata": {},
   "source": [
    "## 2/ Avec des fonctions permettant d'effectuer des calculs \"connus\"\n",
    "##### Cas n°1:\n",
    "Voici un algorithme incomplet, mais dont la lecture des instructions de calcul permet de reconnaître la notion mathématique à laquelle il fait référence.\n",
    "Vous devez:\n",
    "1/ Donner un titre , c'est à dire un \"nom\" à la fonction dans la 1ère ligne.\n",
    "2/ Trouver une phrase pour compléter judicieusement le texte qui apparaîtra lors de l'affichage du résultat.\n",
    "3/ Expérimenter l'algorithme avec un ou deux exemples de valeurs, pour vérifier qu'il fonctionne correctement."
   ]
  },
  {
   "cell_type": "code",
   "execution_count": 42,
   "id": "e1129eae",
   "metadata": {},
   "outputs": [],
   "source": [
    "def ........(t):\n",
    "    p=1000*(1+t/100)\n",
    "    print(\"............\",p,\"€\")"
   ]
  },
  {
   "cell_type": "markdown",
   "id": "e9af9df2",
   "metadata": {},
   "source": [
    "Vérification:"
   ]
  },
  {
   "cell_type": "code",
   "execution_count": null,
   "id": "576670d5",
   "metadata": {},
   "outputs": [],
   "source": []
  },
  {
   "cell_type": "markdown",
   "id": "c450b37e",
   "metadata": {},
   "source": [
    "##### Cas n°2:\n",
    "Faire de même avec l'algorithme suivant:"
   ]
  },
  {
   "cell_type": "code",
   "execution_count": 51,
   "id": "9b2dad2c",
   "metadata": {},
   "outputs": [],
   "source": [
    "def ......(x,y):\n",
    "    h=(x*x+y*y)**0.5\n",
    "    print(\"............\",h)"
   ]
  },
  {
   "cell_type": "markdown",
   "id": "a425dd73",
   "metadata": {},
   "source": [
    "Vérification:"
   ]
  },
  {
   "cell_type": "code",
   "execution_count": null,
   "id": "082807bc",
   "metadata": {},
   "outputs": [],
   "source": []
  },
  {
   "cell_type": "markdown",
   "id": "b53492af",
   "metadata": {},
   "source": [
    "##### Cas n°3:\n",
    "Faire de même avec l'algorithme suivant:"
   ]
  },
  {
   "cell_type": "code",
   "execution_count": 53,
   "id": "98bd78c5",
   "metadata": {},
   "outputs": [],
   "source": [
    "def .........(xA,yA,xB,yB):\n",
    "    m=(yB-......)/(.......)\n",
    "    p=yA-m*xA\n",
    "    print(\"............y=\",.....,\"x+\",......)"
   ]
  },
  {
   "cell_type": "markdown",
   "id": "1691fab8",
   "metadata": {},
   "source": [
    "Vérification:"
   ]
  },
  {
   "cell_type": "code",
   "execution_count": null,
   "id": "3393ab8d",
   "metadata": {},
   "outputs": [],
   "source": []
  },
  {
   "cell_type": "markdown",
   "id": "06aa5738",
   "metadata": {},
   "source": [
    "En vous inspirant du modèle précédent, écrire ci-dessous un algorithme qui permet de calculer la distance AB séparant deux points dont on connaît les coordonnées:"
   ]
  },
  {
   "cell_type": "code",
   "execution_count": null,
   "id": "87c85c48",
   "metadata": {},
   "outputs": [],
   "source": []
  },
  {
   "cell_type": "markdown",
   "id": "1346c09a",
   "metadata": {},
   "source": [
    "Faire une vérification avec les points de coordponnées : A(1;4) et B(4;0)  *(on doit normalement obtenir AB=5)* "
   ]
  },
  {
   "cell_type": "code",
   "execution_count": 55,
   "id": "295e0bc4",
   "metadata": {},
   "outputs": [],
   "source": []
  },
  {
   "cell_type": "markdown",
   "id": "f3fa21b1",
   "metadata": {},
   "source": [
    "##### Cas n°4 (pour finir en beauté......)\n",
    "Voici un dernier algorithme:"
   ]
  },
  {
   "cell_type": "code",
   "execution_count": 61,
   "id": "b2186695",
   "metadata": {},
   "outputs": [],
   "source": [
    "def tangente(a):\n",
    "    f=a**2-3*a+4\n",
    "    d=2*a-3\n",
    "    k=-d*a+f\n",
    "    print(\"L'équation de la tangente à la courbe en\",a,\"est y=\",d,\"(x-\",a,\")+\",f,\" et donc y=\",d,\"x+\",k)"
   ]
  },
  {
   "cell_type": "markdown",
   "id": "341edc8c",
   "metadata": {},
   "source": [
    "--> Lire attentivement les instructions de cet algorithme pour comprendre ce que représentent les nombres f, d et k calculés.\n",
    "\n",
    "A l'aide de cet algorithme, déterminer  ci-dessous l'équation de la tangente à la courbe de la fonction concernée, en **x=0** puis **x=5**\n"
   ]
  },
  {
   "cell_type": "code",
   "execution_count": null,
   "id": "d2da1886",
   "metadata": {},
   "outputs": [],
   "source": []
  },
  {
   "cell_type": "code",
   "execution_count": null,
   "id": "5f9ad256",
   "metadata": {},
   "outputs": [],
   "source": []
  },
  {
   "cell_type": "markdown",
   "id": "e5035748",
   "metadata": {},
   "source": [
    "En quel point de la courbe la tangente est-elle horizontale? Vérifier en appliquant l'agorithme précédent."
   ]
  },
  {
   "cell_type": "code",
   "execution_count": null,
   "id": "935a2855",
   "metadata": {},
   "outputs": [],
   "source": []
  },
  {
   "cell_type": "markdown",
   "id": "78fe861e",
   "metadata": {},
   "source": [
    "Pour finir, reprendre et modifier convenablement l'algorithme précédent *(l'appeler par exemple $tangentebis$)* pour qu'il permette de déterminer l'équation , en un point d'abscisse *a*, de la tangente à la courbe de la fonction suivante:\n",
    "***f(x)=3x^4-0.5x^2+3x-4/x*** \n",
    "\n",
    "*(3 fois x puissance 4 moins 0.5 fois x au carré plus 3 fois x moins 4 sur x)*"
   ]
  },
  {
   "cell_type": "code",
   "execution_count": 78,
   "id": "4c67f5eb",
   "metadata": {},
   "outputs": [],
   "source": []
  },
  {
   "cell_type": "markdown",
   "id": "29915d87",
   "metadata": {},
   "source": [
    "Utiliser ce nouvel algorithme pour vérifier l'affirmation suivante: \n",
    "\n",
    "\"La tangente en 1 à la courbe de cette fonction, passe aussi par le point M de coordonnées M(10;163,5)\" :"
   ]
  },
  {
   "cell_type": "code",
   "execution_count": null,
   "id": "65127726",
   "metadata": {},
   "outputs": [],
   "source": []
  },
  {
   "cell_type": "markdown",
   "id": "5658f37f",
   "metadata": {},
   "source": [
    "###                                                                   FIN  du TP   :-)   "
   ]
  }
 ],
 "metadata": {
  "celltoolbar": "Format de la Cellule Texte Brut",
  "kernelspec": {
   "display_name": "Python 3",
   "language": "python",
   "name": "python3"
  },
  "language_info": {
   "codemirror_mode": {
    "name": "ipython",
    "version": 3
   },
   "file_extension": ".py",
   "mimetype": "text/x-python",
   "name": "python",
   "nbconvert_exporter": "python",
   "pygments_lexer": "ipython3",
   "version": "3.8.8"
  }
 },
 "nbformat": 4,
 "nbformat_minor": 5
}
