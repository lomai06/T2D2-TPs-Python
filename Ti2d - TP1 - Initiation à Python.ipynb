{
 "cells": [
  {
   "cell_type": "markdown",
   "id": "f6ed7495",
   "metadata": {},
   "source": [
    "# TP1 : Initiation au langage Python\n",
    "\n",
    "Un algorithme mathématique est un procédé qui permet d'automatiser un calcul dans le but de le faire effectuer directement à une machine en lui donnant les bonnes instructions. Une fois l'algorithme programmé, cela permet un gain de temps et parfois de précision. Dans le cadre des suites numériques par exemple, on les utilise pour résoudre certaines questions qui nécessitent un grand nombre de \"boucles\".\n",
    "\n",
    "En langage Python, on commence toujours un algorithme par **def** suivi du nom de la \"fonction\" et de son (ou ses) paramètre(s) placé(s) entre parenthèses. *(attention, le mot \"fonction\" pour Python n'a pas exactement le même sens qu'en maths. Cela désigne une suite d'instructions qui saisit des \"arguments\" et retourne un résultat)*      \n",
    "\n",
    "La première ligne se termine toujours par \"2 points\" (**:**) qui marquent le démarrage d'un bloc d'instructions; toutes ces instructions sont \"décalées vers la droite\"\n",
    "\n",
    "Le résultat s'obtient grâce à la commande \"print(...)\"\n",
    "\n",
    "## 1/ Un premier exemple de \"fonction\" Python\n",
    "Voici ci-dessous un exemple d'algorithme:\n",
    "\n"
   ]
  },
  {
   "cell_type": "code",
   "execution_count": 31,
   "id": "c35b096f",
   "metadata": {},
   "outputs": [],
   "source": [
    "def calcul(x):\n",
    "    y=x+3\n",
    "    y=y**2\n",
    "    y=5*y\n",
    "    print(y)  "
   ]
  },
  {
   "cell_type": "markdown",
   "id": "ed767fe3",
   "metadata": {},
   "source": [
    "*(Note: le * signifie \"multiplier\"; \"x**2\" signifie une mise au carré )* \n",
    "\n",
    "Pour utiliser un tel algorithme, il suffit de l'appeler par son nom (ici $calcul$ et de noter entre parenthèses la valeur que l'on veut donner à x. \n",
    "Faites cette manipulation dans la ligne ci-dessous, avec la valeur initiale **x=1**, puis avec une autre valeur initiale **x=-8**"
   ]
  },
  {
   "cell_type": "code",
   "execution_count": null,
   "id": "dea85472",
   "metadata": {},
   "outputs": [],
   "source": []
  },
  {
   "cell_type": "markdown",
   "id": "136e802b",
   "metadata": {},
   "source": [
    "Il est possible de simplifier l'algorithme précédent en remplaçant les trois lignes de calculs commençant par \"y=\" par une seule ligne. On l'appellera $calcbis$ .\n",
    "Ecrire cet algorithme simplifié ci-dessous, puis le tester avec les valeurs **x=1** puis **x=-8**  "
   ]
  },
  {
   "cell_type": "code",
   "execution_count": 35,
   "id": "a234d00d",
   "metadata": {},
   "outputs": [],
   "source": [
    "def ............:\n",
    "    y=..........\n",
    "    .........."
   ]
  },
  {
   "cell_type": "markdown",
   "id": "4c19c83e",
   "metadata": {},
   "source": [
    "Quels sont les \"antécédents\" du nombre 500 par cette \"fonction\"? Réfléchir au brouillon, puis tester ci-dessous vos réponses avec l'algorithme précédent.\n",
    "\n",
    "--> Vérification du 1er antécédent:"
   ]
  },
  {
   "cell_type": "code",
   "execution_count": null,
   "id": "5f4a49ff",
   "metadata": {},
   "outputs": [],
   "source": []
  },
  {
   "cell_type": "markdown",
   "id": "49e85cfe",
   "metadata": {},
   "source": [
    "--> Vérification du 2ème antécédent"
   ]
  },
  {
   "cell_type": "code",
   "execution_count": null,
   "id": "020cd3bd",
   "metadata": {},
   "outputs": [],
   "source": []
  },
  {
   "cell_type": "markdown",
   "id": "83d4e5a1",
   "metadata": {},
   "source": [
    "Enfin, il est possible d'améliorer un algorithme en y insérant du texte pour qu'il affiche une phrase réponse lors de la commande \"print\". Le texte doit alors être mis entre guillemets et il doit y avoir une virgule qui sépare ce texte de la variable à afficher. On peut écrire par exemple:     **print(\"Le résultat est \",y)**\n",
    "\n",
    "Copier l'algorithme créé à l'entrée 35, puis terminer par l'instruction qui affichera **\"L'image du nombre ...(*x*) est égale à ...(*y*)\"**"
   ]
  },
  {
   "cell_type": "markdown",
   "id": "83bc91a9",
   "metadata": {},
   "source": []
  },
  {
   "cell_type": "markdown",
   "id": "8192ff55",
   "metadata": {},
   "source": [
    "## 2/ Avec des fonctions permettant d'effectuer des calculs \"connus\"\n",
    "##### Cas n°1:\n",
    "Voici un algorithme incomplet, mais dont la lecture des instructions de calcul permet de reconnaître la notion mathématique à laquelle il fait référence.\n",
    "Vous devez:\n",
    "1/ Donner un titre , c'est à dire un \"nom\" à la fonction dans la 1ère ligne.\n",
    "2/ Trouver une phrase pour compléter judicieusement le texte qui apparaîtra lors de l'affichage du résultat.\n",
    "3/ Expérimenter l'algorithme avec un ou deux exemples de valeurs, pour vérifier qu'il fonctionne correctement."
   ]
  },
  {
   "cell_type": "code",
   "execution_count": 42,
   "id": "ca5569c7",
   "metadata": {},
   "outputs": [],
   "source": [
    "def ........(t):\n",
    "    p=1000*(1+t/100)\n",
    "    print(\"............\",p,\"€\")"
   ]
  },
  {
   "cell_type": "markdown",
   "id": "3f78cef8",
   "metadata": {},
   "source": [
    "Vérification:"
   ]
  },
  {
   "cell_type": "code",
   "execution_count": null,
   "id": "07778cbe",
   "metadata": {},
   "outputs": [],
   "source": []
  },
  {
   "cell_type": "markdown",
   "id": "567614df",
   "metadata": {},
   "source": [
    "##### Cas n°2:\n",
    "Faire de même avec l'algorithme suivant:"
   ]
  },
  {
   "cell_type": "code",
   "execution_count": 51,
   "id": "3860ea28",
   "metadata": {},
   "outputs": [],
   "source": [
    "def ......(x,y):\n",
    "    h=(x*x+y*y)**0.5\n",
    "    print(\"............\",h)"
   ]
  },
  {
   "cell_type": "markdown",
   "id": "796a205d",
   "metadata": {},
   "source": [
    "Vérification:"
   ]
  },
  {
   "cell_type": "code",
   "execution_count": null,
   "id": "5138dd52",
   "metadata": {},
   "outputs": [],
   "source": []
  },
  {
   "cell_type": "markdown",
   "id": "2ca9865c",
   "metadata": {},
   "source": [
    "##### Cas n°3:\n",
    "Faire de même avec l'algorithme suivant:"
   ]
  },
  {
   "cell_type": "code",
   "execution_count": 53,
   "id": "77b45ae9",
   "metadata": {},
   "outputs": [],
   "source": [
    "def .........(xA,yA,xB,yB):\n",
    "    m=(yB-......)/(.......)\n",
    "    p=yA-m*xA\n",
    "    print(\"............y=\",.....,\"x+\",......)"
   ]
  },
  {
   "cell_type": "markdown",
   "id": "ce8deb10",
   "metadata": {},
   "source": [
    "Vérification:"
   ]
  },
  {
   "cell_type": "code",
   "execution_count": null,
   "id": "538fa558",
   "metadata": {},
   "outputs": [],
   "source": []
  },
  {
   "cell_type": "markdown",
   "id": "1f74f937",
   "metadata": {},
   "source": [
    "En vous inspirant du modèle précédent, écrire ci-dessous un algorithme qui permet de calculer la distance AB séparant deux points dont on connaît les coordonnées:"
   ]
  },
  {
   "cell_type": "code",
   "execution_count": null,
   "id": "24708713",
   "metadata": {},
   "outputs": [],
   "source": []
  },
  {
   "cell_type": "markdown",
   "id": "e394abfa",
   "metadata": {},
   "source": [
    "Faire une vérification avec les points de coordponnées : A(1;4) et B(4;0)  *(on doit normalement obtenir AB=5)* "
   ]
  },
  {
   "cell_type": "code",
   "execution_count": 55,
   "id": "7dc86701",
   "metadata": {},
   "outputs": [],
   "source": []
  },
  {
   "cell_type": "markdown",
   "id": "160576ed",
   "metadata": {},
   "source": [
    "##### Cas n°4 (pour finir en beauté......)\n",
    "Voici un dernier algorithme:"
   ]
  },
  {
   "cell_type": "code",
   "execution_count": 61,
   "id": "1136d509",
   "metadata": {},
   "outputs": [],
   "source": [
    "def tangente(a):\n",
    "    f=a**2-3*a+4\n",
    "    d=2*a-3\n",
    "    k=-d*a+f\n",
    "    print(\"L'équation de la tangente à la courbe en\",a,\"est y=\",d,\"(x-\",a,\")+\",f,\" et donc y=\",d,\"x+\",k)"
   ]
  },
  {
   "cell_type": "markdown",
   "id": "75846046",
   "metadata": {},
   "source": [
    "--> Lire attentivement les instructions de cet algorithme pour comprendre ce que représentent les nombres f, d et k calculés.\n",
    "\n",
    "A l'aide de cet algorithme, déterminer  ci-dessous l'équation de la tangente à la courbe de la fonction concernée, en **x=0** puis **x=5**\n"
   ]
  },
  {
   "cell_type": "code",
   "execution_count": null,
   "id": "2f9218df",
   "metadata": {},
   "outputs": [],
   "source": []
  },
  {
   "cell_type": "code",
   "execution_count": null,
   "id": "ff6cd8ba",
   "metadata": {},
   "outputs": [],
   "source": []
  },
  {
   "cell_type": "markdown",
   "id": "37ecebd7",
   "metadata": {},
   "source": [
    "En quel point de la courbe la tangente est-elle horizontale? Vérifier en appliquant l'agorithme précédent."
   ]
  },
  {
   "cell_type": "code",
   "execution_count": null,
   "id": "aa865b07",
   "metadata": {},
   "outputs": [],
   "source": []
  },
  {
   "cell_type": "markdown",
   "id": "059cbd21",
   "metadata": {},
   "source": [
    "Pour finir, reprendre et modifier convenablement l'algorithme précédent *(l'appeler par exemple $tangentebis$)* pour qu'il permette de déterminer l'équation , en un point d'abscisse *a*, de la tangente à la courbe de la fonction suivante:\n",
    "***f(x)=3x^4-0.5x^2+3x-4/x*** \n",
    "\n",
    "*(3 fois x puissance 4 moins 0.5 fois x au carré plus 3 fois x moins 4 sur x)*"
   ]
  },
  {
   "cell_type": "code",
   "execution_count": 78,
   "id": "3eff7e07",
   "metadata": {},
   "outputs": [],
   "source": [
    "def tangentebis(a):\n",
    "    f=3*a**4-0.5*a**2+3*a-4/a\n",
    "    d=12*a**3-a+3+4/(a**2)\n",
    "    k=f-d*a\n",
    "    print(\"L'équation de la tangente à la courbe en\",a,\"est y=\",d,\"(x-\",a,\")+\",f,\" et donc y=\",d,\"x+\",k)"
   ]
  },
  {
   "cell_type": "markdown",
   "id": "ae3884f0",
   "metadata": {},
   "source": [
    "Utiliser ce nouvel algorithme pour vérifier l'affirmation suivante: \n",
    "\n",
    "\"La tangente en 1 à la courbe de cette fonction, passe aussi par le point M de coordonnées M(10;163,5)\" :"
   ]
  },
  {
   "cell_type": "code",
   "execution_count": null,
   "id": "9c7dc6d3",
   "metadata": {},
   "outputs": [],
   "source": []
  },
  {
   "cell_type": "markdown",
   "id": "07743bad",
   "metadata": {},
   "source": [
    "###                                                                   FIN  du TP   :-)   "
   ]
  }
 ],
 "metadata": {
  "celltoolbar": "Format de la Cellule Texte Brut",
  "kernelspec": {
   "display_name": "Python 3",
   "language": "python",
   "name": "python3"
  },
  "language_info": {
   "codemirror_mode": {
    "name": "ipython",
    "version": 3
   },
   "file_extension": ".py",
   "mimetype": "text/x-python",
   "name": "python",
   "nbconvert_exporter": "python",
   "pygments_lexer": "ipython3",
   "version": "3.8.8"
  }
 },
 "nbformat": 4,
 "nbformat_minor": 5
}
